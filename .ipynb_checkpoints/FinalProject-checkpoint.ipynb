{
 "cells": [
  {
   "cell_type": "code",
   "execution_count": 1,
   "metadata": {},
   "outputs": [],
   "source": [
    "import pandas as pd\n",
    "import numpy as np\n",
    "from pandas import read_table\n",
    "from sklearn.ensemble import RandomForestClassifier,VotingClassifier \n",
    "from sklearn.neighbors import KNeighborsClassifier\n",
    "from sklearn.linear_model import LogisticRegression\n",
    "from sklearn.metrics import classification_report,accuracy_score,confusion_matrix\n",
    "from sklearn.model_selection import cross_val_score,train_test_split,GridSearchCV\n",
    "from numpy import set_printoptions\n",
    "from sklearn.feature_selection import SelectKBest,RFE,f_classif"
   ]
  },
  {
   "cell_type": "code",
   "execution_count": 2,
   "metadata": {},
   "outputs": [
    {
     "name": "stdout",
     "output_type": "stream",
     "text": [
      "      col1  col2  col3  col4  col5  col6  col7 class\n",
      "0      -64   -56   -61   -66   -71   -82   -81     1\n",
      "1      -68   -57   -61   -65   -71   -85   -85     1\n",
      "2      -63   -60   -60   -67   -76   -85   -84     1\n",
      "3      -61   -60   -68   -62   -77   -90   -80     1\n",
      "4      -63   -65   -60   -63   -77   -81   -87     1\n",
      "...    ...   ...   ...   ...   ...   ...   ...   ...\n",
      "1995   -59   -59   -48   -66   -50   -86   -94     4\n",
      "1996   -59   -56   -50   -62   -47   -87   -90     4\n",
      "1997   -62   -59   -46   -65   -45   -87   -88     4\n",
      "1998   -62   -58   -52   -61   -41   -90   -85     4\n",
      "1999   -59   -50   -45   -60   -45   -88   -87     4\n",
      "\n",
      "[2000 rows x 8 columns]\n"
     ]
    }
   ],
   "source": [
    "#Veri setimizi okuduk ve sütun isimlendirmesini yaptık.\n",
    "\n",
    "filename = 'data.txt'\n",
    "names = ['col1', 'col2', 'col3', 'col4', 'col5', 'col6', 'col7', 'class'] \n",
    "data = read_table(filename, names=names)\n",
    "\n",
    "#Çıktı değişkenimizi String değere dönüştürdük.\n",
    "data['class'] = data['class'].apply(str)\n",
    "\n",
    "print(data)"
   ]
  },
  {
   "cell_type": "code",
   "execution_count": 4,
   "metadata": {},
   "outputs": [
    {
     "name": "stdout",
     "output_type": "stream",
     "text": [
      "(2000, 8)\n"
     ]
    }
   ],
   "source": [
    "#Veri setimiz 8 sütun ve 2000 satırdan oluşuyormuş.\n",
    "\n",
    "print(data.shape)"
   ]
  },
  {
   "cell_type": "code",
   "execution_count": 5,
   "metadata": {},
   "outputs": [
    {
     "data": {
      "text/html": [
       "<div>\n",
       "<style scoped>\n",
       "    .dataframe tbody tr th:only-of-type {\n",
       "        vertical-align: middle;\n",
       "    }\n",
       "\n",
       "    .dataframe tbody tr th {\n",
       "        vertical-align: top;\n",
       "    }\n",
       "\n",
       "    .dataframe thead th {\n",
       "        text-align: right;\n",
       "    }\n",
       "</style>\n",
       "<table border=\"1\" class=\"dataframe\">\n",
       "  <thead>\n",
       "    <tr style=\"text-align: right;\">\n",
       "      <th></th>\n",
       "      <th>col1</th>\n",
       "      <th>col2</th>\n",
       "      <th>col3</th>\n",
       "      <th>col4</th>\n",
       "      <th>col5</th>\n",
       "      <th>col6</th>\n",
       "      <th>col7</th>\n",
       "    </tr>\n",
       "  </thead>\n",
       "  <tbody>\n",
       "    <tr>\n",
       "      <th>count</th>\n",
       "      <td>2000.000000</td>\n",
       "      <td>2000.000000</td>\n",
       "      <td>2000.000000</td>\n",
       "      <td>2000.000000</td>\n",
       "      <td>2000.000000</td>\n",
       "      <td>2000.000000</td>\n",
       "      <td>2000.000000</td>\n",
       "    </tr>\n",
       "    <tr>\n",
       "      <th>mean</th>\n",
       "      <td>-52.330500</td>\n",
       "      <td>-55.623500</td>\n",
       "      <td>-54.964000</td>\n",
       "      <td>-53.566500</td>\n",
       "      <td>-62.640500</td>\n",
       "      <td>-80.985000</td>\n",
       "      <td>-81.726500</td>\n",
       "    </tr>\n",
       "    <tr>\n",
       "      <th>std</th>\n",
       "      <td>11.321677</td>\n",
       "      <td>3.417688</td>\n",
       "      <td>5.316186</td>\n",
       "      <td>11.471982</td>\n",
       "      <td>9.105093</td>\n",
       "      <td>6.516672</td>\n",
       "      <td>6.519812</td>\n",
       "    </tr>\n",
       "    <tr>\n",
       "      <th>min</th>\n",
       "      <td>-74.000000</td>\n",
       "      <td>-74.000000</td>\n",
       "      <td>-73.000000</td>\n",
       "      <td>-77.000000</td>\n",
       "      <td>-89.000000</td>\n",
       "      <td>-97.000000</td>\n",
       "      <td>-98.000000</td>\n",
       "    </tr>\n",
       "    <tr>\n",
       "      <th>25%</th>\n",
       "      <td>-61.000000</td>\n",
       "      <td>-58.000000</td>\n",
       "      <td>-58.000000</td>\n",
       "      <td>-63.000000</td>\n",
       "      <td>-69.000000</td>\n",
       "      <td>-86.000000</td>\n",
       "      <td>-87.000000</td>\n",
       "    </tr>\n",
       "    <tr>\n",
       "      <th>50%</th>\n",
       "      <td>-55.000000</td>\n",
       "      <td>-56.000000</td>\n",
       "      <td>-55.000000</td>\n",
       "      <td>-56.000000</td>\n",
       "      <td>-64.000000</td>\n",
       "      <td>-82.000000</td>\n",
       "      <td>-83.000000</td>\n",
       "    </tr>\n",
       "    <tr>\n",
       "      <th>75%</th>\n",
       "      <td>-46.000000</td>\n",
       "      <td>-53.000000</td>\n",
       "      <td>-51.000000</td>\n",
       "      <td>-46.000000</td>\n",
       "      <td>-56.000000</td>\n",
       "      <td>-77.000000</td>\n",
       "      <td>-78.000000</td>\n",
       "    </tr>\n",
       "    <tr>\n",
       "      <th>max</th>\n",
       "      <td>-10.000000</td>\n",
       "      <td>-45.000000</td>\n",
       "      <td>-40.000000</td>\n",
       "      <td>-11.000000</td>\n",
       "      <td>-36.000000</td>\n",
       "      <td>-61.000000</td>\n",
       "      <td>-63.000000</td>\n",
       "    </tr>\n",
       "  </tbody>\n",
       "</table>\n",
       "</div>"
      ],
      "text/plain": [
       "              col1         col2         col3         col4         col5  \\\n",
       "count  2000.000000  2000.000000  2000.000000  2000.000000  2000.000000   \n",
       "mean    -52.330500   -55.623500   -54.964000   -53.566500   -62.640500   \n",
       "std      11.321677     3.417688     5.316186    11.471982     9.105093   \n",
       "min     -74.000000   -74.000000   -73.000000   -77.000000   -89.000000   \n",
       "25%     -61.000000   -58.000000   -58.000000   -63.000000   -69.000000   \n",
       "50%     -55.000000   -56.000000   -55.000000   -56.000000   -64.000000   \n",
       "75%     -46.000000   -53.000000   -51.000000   -46.000000   -56.000000   \n",
       "max     -10.000000   -45.000000   -40.000000   -11.000000   -36.000000   \n",
       "\n",
       "              col6         col7  \n",
       "count  2000.000000  2000.000000  \n",
       "mean    -80.985000   -81.726500  \n",
       "std       6.516672     6.519812  \n",
       "min     -97.000000   -98.000000  \n",
       "25%     -86.000000   -87.000000  \n",
       "50%     -82.000000   -83.000000  \n",
       "75%     -77.000000   -78.000000  \n",
       "max     -61.000000   -63.000000  "
      ]
     },
     "execution_count": 5,
     "metadata": {},
     "output_type": "execute_result"
    }
   ],
   "source": [
    "#Datamızı anlamlandırmak için minimum, maximum ve ortalama gibi değerlerimize baktık.\n",
    "\n",
    "data.describe()"
   ]
  },
  {
   "cell_type": "code",
   "execution_count": 6,
   "metadata": {},
   "outputs": [
    {
     "name": "stdout",
     "output_type": "stream",
     "text": [
      "class\n",
      "1    500\n",
      "2    500\n",
      "3    500\n",
      "4    500\n",
      "dtype: int64\n"
     ]
    }
   ],
   "source": [
    "#Tüm çıktı değerlerimiz için 500'er örneğe sahipmişiz.\n",
    "\n",
    "print(data.groupby('class').size())"
   ]
  },
  {
   "cell_type": "code",
   "execution_count": 7,
   "metadata": {},
   "outputs": [
    {
     "name": "stdout",
     "output_type": "stream",
     "text": [
      "col1      int64\n",
      "col2      int64\n",
      "col3      int64\n",
      "col4      int64\n",
      "col5      int64\n",
      "col6      int64\n",
      "col7      int64\n",
      "class    object\n",
      "dtype: object\n"
     ]
    }
   ],
   "source": [
    "types=data.dtypes\n",
    "print(types)"
   ]
  },
  {
   "cell_type": "code",
   "execution_count": 8,
   "metadata": {},
   "outputs": [
    {
     "data": {
      "text/plain": [
       "col1     0\n",
       "col2     0\n",
       "col3     0\n",
       "col4     0\n",
       "col5     0\n",
       "col6     0\n",
       "col7     0\n",
       "class    0\n",
       "dtype: int64"
      ]
     },
     "execution_count": 8,
     "metadata": {},
     "output_type": "execute_result"
    }
   ],
   "source": [
    "#Kayıp datamız olup olmadığını kontrol ettik. Kayıp datamız yokmuş.\n",
    "\n",
    "data.isnull().sum()"
   ]
  },
  {
   "cell_type": "code",
   "execution_count": 9,
   "metadata": {},
   "outputs": [
    {
     "data": {
      "text/plain": [
       "<AxesSubplot:>"
      ]
     },
     "execution_count": 9,
     "metadata": {},
     "output_type": "execute_result"
    },
    {
     "data": {
      "image/png": "[encoded data removed]",
      "text/plain": [
       "<Figure size 648x432 with 2 Axes>"
      ]
     },
     "metadata": {
      "needs_background": "light"
     },
     "output_type": "display_data"
    }
   ],
   "source": [
    "#col1-col4, col1-col6 ve col4-col6 gibi değişkenlerimiz aralarında diğer değişkenlere göre \n",
    "#daha fazla ilişkillilermiş ve birbirlerini daha çok etkiliyorlarmış. Veri setimiz wifi sinyal verilerinden \n",
    "#oluştuğu için ilişkileri anlamnlandırmak çok da kolay olmuyor.\n",
    "\n",
    "import seaborn as sns\n",
    "import matplotlib.pyplot as plt\n",
    "\n",
    "j=data[names].corr()\n",
    "f, ax = plt.subplots(figsize=(9, 6))\n",
    "sns.heatmap(j, annot=True, linewidths=.5, ax=ax)"
   ]
  },
  {
   "cell_type": "code",
   "execution_count": 10,
   "metadata": {},
   "outputs": [
    {
     "data": {
      "image/png": "[encoded data removed]",
      "text/plain": [
       "<Figure size 1440x576 with 9 Axes>"
      ]
     },
     "metadata": {
      "needs_background": "light"
     },
     "output_type": "display_data"
    }
   ],
   "source": [
    "#Girdilerimizden yığılmalar col-1 için, -60 ; col-2 için, -55; col-3 için, -53; col-4, -62; col-5, -63 ve -45; \n",
    "#col-6, -83; col-7, -87 değerlerinde gerçekleşmiş. \n",
    "\n",
    "data.plot(kind='density', subplots=True, figsize=(20,8),layout=(3,3), sharex=False) \n",
    "plt.show()"
   ]
  },
  {
   "cell_type": "code",
   "execution_count": 3,
   "metadata": {},
   "outputs": [],
   "source": [
    "# Girdi ve çıktı değişkenimizi ayırdık.\n",
    "\n",
    "veri = data.values\n",
    "\n",
    "X = veri[:,0:-1]\n",
    "Y = veri[:,-1]"
   ]
  },
  {
   "cell_type": "code",
   "execution_count": 4,
   "metadata": {},
   "outputs": [
    {
     "name": "stdout",
     "output_type": "stream",
     "text": [
      "(2000, 7)\n",
      "(2000,)\n"
     ]
    }
   ],
   "source": [
    "print(X.shape)\n",
    "print(Y.shape)"
   ]
  },
  {
   "cell_type": "markdown",
   "metadata": {},
   "source": [
    "# Değişken Seçimlerinin Yapılması"
   ]
  },
  {
   "cell_type": "markdown",
   "metadata": {},
   "source": [
    "### SelectKBest ile Değişken Seçimi"
   ]
  },
  {
   "cell_type": "code",
   "execution_count": 5,
   "metadata": {},
   "outputs": [
    {
     "name": "stdout",
     "output_type": "stream",
     "text": [
      "[2630.243   20.018  633.527 2670.355 2299.126 1216.013  978.059] \n",
      " ['col1', 'col2', 'col3', 'col4', 'col5', 'col6', 'col7']\n",
      "\n",
      "\n",
      "[[-64 -66 -71 -82]\n",
      " [-68 -65 -71 -85]\n",
      " [-63 -67 -76 -85]\n",
      " [-61 -62 -77 -90]\n",
      " [-63 -63 -77 -81]]\n"
     ]
    }
   ],
   "source": [
    "#4 değişken olmak üzere selectKbest ile değişken seçimlerimizi yaptık.\n",
    "#selectKbest col-1, col-4, col-5, col-6'yı seçti.\n",
    "\n",
    "test = SelectKBest(f_classif, k=4)\n",
    "fit = test.fit(X, Y)\n",
    "\n",
    "set_printoptions(precision=3)\n",
    "print(fit.scores_,'\\n',names[0:7])\n",
    "\n",
    "print('\\n')\n",
    "X_fclassif = fit.transform(X)\n",
    "print(X_fclassif[0:5,:])"
   ]
  },
  {
   "cell_type": "markdown",
   "metadata": {},
   "source": [
    "### Feature Elimination Yöntemi ile Değişken Seçimi"
   ]
  },
  {
   "cell_type": "code",
   "execution_count": 6,
   "metadata": {},
   "outputs": [
    {
     "name": "stderr",
     "output_type": "stream",
     "text": [
      "C:\\Users\\Lenovo\\anaconda3\\lib\\site-packages\\sklearn\\utils\\validation.py:67: FutureWarning: Pass n_features_to_select=4 as keyword args. From version 0.25 passing these as positional arguments will result in an error\n",
      "  warnings.warn(\"Pass {} as keyword args. From version 0.25 \"\n"
     ]
    },
    {
     "name": "stdout",
     "output_type": "stream",
     "text": [
      "Öznitelik Sayısı: 4\n",
      "Seçilen Öznitelikler: [ True False  True  True  True False False]\n",
      "['col1', 'col2', 'col3', 'col4', 'col5', 'col6', 'col7']\n",
      "Öznitelik Sıralaması: [1 4 1 1 1 2 3]\n"
     ]
    }
   ],
   "source": [
    "#4 değişken olmak üzere selectKbest ile değişken seçimlerimizi yaptık.\n",
    "#Feature Elimination col-1, col-3, col-4, col-5'yı seçti.\n",
    "\n",
    "model = LogisticRegression(max_iter=10000)\n",
    "rfe = RFE(model, 4)\n",
    "X_Feature = rfe.fit(X, Y)\n",
    "print(\"Öznitelik Sayısı: %d\" % X_Feature.n_features_)\n",
    "print(\"Seçilen Öznitelikler: %s\" % X_Feature.support_)\n",
    "print(names[0:7])\n",
    "print(\"Öznitelik Sıralaması: %s\" % X_Feature.ranking_)\n",
    "X_Feature = fit.transform(X)"
   ]
  },
  {
   "cell_type": "markdown",
   "metadata": {},
   "source": [
    "# Eğitim ve Test Verilerinin Ayrılması"
   ]
  },
  {
   "cell_type": "code",
   "execution_count": 7,
   "metadata": {
    "scrolled": true
   },
   "outputs": [],
   "source": [
    "#Tüm değişkenlerin dahil olduğu veri setini bölüyoruz\n",
    "x_train, x_test,y_train,y_test=train_test_split(X,Y,test_size=0.3,random_state=0, stratify=Y)"
   ]
  },
  {
   "cell_type": "code",
   "execution_count": 8,
   "metadata": {},
   "outputs": [],
   "source": [
    "#SelectKBest ile seçilen değişkenlerin olduğu veri setini bölüyoruz\n",
    "x_fclassif_train, x_fclassif_test, y_fclassif_train, y_classif_test = train_test_split(X_fclassif, Y,test_size=0.3,random_state=0, stratify=Y)"
   ]
  },
  {
   "cell_type": "code",
   "execution_count": 9,
   "metadata": {},
   "outputs": [],
   "source": [
    "#Feature Elimiantion ile seçilen değişkenlerin olduğu veri setini bölüyoruz\n",
    "x_feature_train, x_feature_test,y_feature_train,y_feature_test=train_test_split(X_Feature,Y,test_size=0.3,random_state=0, stratify=Y)"
   ]
  },
  {
   "cell_type": "markdown",
   "metadata": {},
   "source": [
    "# Logistic Regression"
   ]
  },
  {
   "cell_type": "markdown",
   "metadata": {},
   "source": [
    "#### Ham Hali"
   ]
  },
  {
   "cell_type": "code",
   "execution_count": 10,
   "metadata": {},
   "outputs": [
    {
     "name": "stdout",
     "output_type": "stream",
     "text": [
      "Doğruluk(Eğitim): 0.9842857142857143\n",
      "Doğruluk(Test): 0.9866666666666667\n",
      "Confusion Matrix: \n",
      "[[150   0   0   0]\n",
      " [  0 146   4   0]\n",
      " [  0   3 146   1]\n",
      " [  0   0   0 150]]\n",
      "\n",
      "\n",
      "              precision    recall  f1-score   support\n",
      "\n",
      "           1       1.00      1.00      1.00       150\n",
      "           2       0.98      0.97      0.98       150\n",
      "           3       0.97      0.97      0.97       150\n",
      "           4       0.99      1.00      1.00       150\n",
      "\n",
      "    accuracy                           0.99       600\n",
      "   macro avg       0.99      0.99      0.99       600\n",
      "weighted avg       0.99      0.99      0.99       600\n",
      "\n"
     ]
    }
   ],
   "source": [
    "#Logistic Regression ve verimizin ham hali ile modelimizi eğittik.\n",
    "#Veri setimiz küçük olduğundan dolayı test performansımız az da olsa daha fazla başarı gösterdi.\n",
    "\n",
    "model_lr_ham = LogisticRegression(max_iter=5000)\n",
    "model_lr_ham.fit(x_train, y_train)\n",
    "\n",
    "y_pred = model_lr_ham.predict(x_test)\n",
    "y_pred1 = model_lr_ham.predict(x_train)\n",
    "\n",
    "print('Doğruluk(Eğitim):',accuracy_score(y_pred1,y_train))\n",
    "print('Doğruluk(Test):',accuracy_score(y_pred,y_test))\n",
    "print('Confusion Matrix: \\n' + str(confusion_matrix(y_test,y_pred)))\n",
    "print(\"\\n\")\n",
    "print(classification_report(y_test, y_pred))"
   ]
  },
  {
   "cell_type": "markdown",
   "metadata": {},
   "source": [
    "#### SelectKBest ile Değişken Seçimi Yapılmış Hali"
   ]
  },
  {
   "cell_type": "code",
   "execution_count": 11,
   "metadata": {},
   "outputs": [
    {
     "name": "stdout",
     "output_type": "stream",
     "text": [
      "Doğruluk(Eğitim): 0.9785714285714285\n",
      "Doğruluk(Test): 0.99\n",
      "Confusion Matrix: \n",
      "[[150   0   0   0]\n",
      " [  0 147   3   0]\n",
      " [  1   2 147   0]\n",
      " [  0   0   0 150]]\n",
      "\n",
      "\n",
      "              precision    recall  f1-score   support\n",
      "\n",
      "           1       0.99      1.00      1.00       150\n",
      "           2       0.99      0.98      0.98       150\n",
      "           3       0.98      0.98      0.98       150\n",
      "           4       1.00      1.00      1.00       150\n",
      "\n",
      "    accuracy                           0.99       600\n",
      "   macro avg       0.99      0.99      0.99       600\n",
      "weighted avg       0.99      0.99      0.99       600\n",
      "\n"
     ]
    }
   ],
   "source": [
    "#4 değişken ile eğittiğimz modelimiz, hem daha az işgücüyle çalıştı hem de ham veriye göre daha fazla başarı yakaladı.\n",
    "\n",
    "model_lr_KBest = LogisticRegression(max_iter=5000)\n",
    "model_lr_KBest.fit(x_fclassif_train, y_fclassif_train)\n",
    "\n",
    "y_pred_classif = model_lr_KBest.predict(x_fclassif_test)\n",
    "y_pred_classif1 = model_lr_KBest.predict(x_fclassif_train)\n",
    "\n",
    "print('Doğruluk(Eğitim):',accuracy_score(y_pred_classif1,y_fclassif_train))\n",
    "print('Doğruluk(Test):',accuracy_score(y_pred_classif,y_classif_test))\n",
    "print('Confusion Matrix: \\n' + str(confusion_matrix(y_classif_test,y_pred_classif)))\n",
    "print(\"\\n\")\n",
    "print(classification_report(y_classif_test, y_pred_classif))"
   ]
  },
  {
   "cell_type": "markdown",
   "metadata": {},
   "source": [
    "#### Feature Elimination ile Değişken Seçimi Yapılmış Hali"
   ]
  },
  {
   "cell_type": "code",
   "execution_count": 12,
   "metadata": {},
   "outputs": [
    {
     "name": "stdout",
     "output_type": "stream",
     "text": [
      "Doğruluk(Eğitim): 0.9785714285714285\n",
      "Doğruluk(Test): 0.99\n",
      "Confusion Matrix: \n",
      "[[150   0   0   0]\n",
      " [  0 147   3   0]\n",
      " [  1   2 147   0]\n",
      " [  0   0   0 150]]\n",
      "\n",
      "\n",
      "              precision    recall  f1-score   support\n",
      "\n",
      "           1       0.99      1.00      1.00       150\n",
      "           2       0.99      0.98      0.98       150\n",
      "           3       0.98      0.98      0.98       150\n",
      "           4       1.00      1.00      1.00       150\n",
      "\n",
      "    accuracy                           0.99       600\n",
      "   macro avg       0.99      0.99      0.99       600\n",
      "weighted avg       0.99      0.99      0.99       600\n",
      "\n"
     ]
    }
   ],
   "source": [
    "#Feature Elimination, selectKbest ile birebir aynı performansı gösterdi.\n",
    "\n",
    "model_lr_fe = LogisticRegression(max_iter=5000)\n",
    "model_lr_fe.fit(x_feature_train, y_feature_train)\n",
    "\n",
    "y_pred_f = model_lr_fe.predict(x_feature_test)\n",
    "y_pred_f1 = model_lr_fe.predict(x_feature_train)\n",
    "\n",
    "print('Doğruluk(Eğitim):',accuracy_score(y_pred_f1,y_train))\n",
    "print('Doğruluk(Test):',accuracy_score(y_pred_f,y_test))\n",
    "print('Confusion Matrix: \\n' + str(confusion_matrix(y_test,y_pred_f)))\n",
    "print(\"\\n\")\n",
    "print(classification_report(y_test, y_pred_f))"
   ]
  },
  {
   "cell_type": "markdown",
   "metadata": {},
   "source": [
    "#### Grid Search ile Parametre Optimizasyonu Yapılmış Hali"
   ]
  },
  {
   "cell_type": "code",
   "execution_count": 13,
   "metadata": {},
   "outputs": [
    {
     "name": "stdout",
     "output_type": "stream",
     "text": [
      "Fitting 10 folds for each of 12 candidates, totalling 120 fits\n"
     ]
    },
    {
     "name": "stderr",
     "output_type": "stream",
     "text": [
      "[Parallel(n_jobs=-1)]: Using backend LokyBackend with 8 concurrent workers.\n",
      "[Parallel(n_jobs=-1)]: Done  34 tasks      | elapsed:   16.7s\n",
      "[Parallel(n_jobs=-1)]: Done 120 out of 120 | elapsed:   55.9s finished\n",
      "C:\\Users\\Lenovo\\anaconda3\\lib\\site-packages\\sklearn\\linear_model\\_logistic.py:1320: UserWarning: Setting penalty='none' will ignore the C and l1_ratio parameters\n",
      "  warnings.warn(\n"
     ]
    },
    {
     "data": {
      "text/plain": [
       "GridSearchCV(cv=10, estimator=LogisticRegression(max_iter=15000), n_jobs=-1,\n",
       "             param_grid={'C': [0.0001, 0.001, 1, 5, 10, 100],\n",
       "                         'penalty': ['none', 'l1']},\n",
       "             scoring='accuracy', verbose=1)"
      ]
     },
     "execution_count": 13,
     "metadata": {},
     "output_type": "execute_result"
    }
   ],
   "source": [
    "#\"penalty\" ve \"c\" parametrelerimizi en iyi hale getirebilmek için Grid Search ile modelimizi eğittik. \n",
    "\n",
    "grid_degerleri = {'penalty': ['none','l1'],'C':[0.0001,0.001,1,5,10,100]}\n",
    "\n",
    "model = LogisticRegression(max_iter=15000)\n",
    "\n",
    "grid_model_lr = GridSearchCV(model, param_grid = grid_degerleri, cv=10,scoring = 'accuracy',\n",
    "                          n_jobs=-1,verbose=1)\n",
    "\n",
    "grid_model_lr.fit(x_train, y_train)"
   ]
  },
  {
   "cell_type": "code",
   "execution_count": 14,
   "metadata": {},
   "outputs": [
    {
     "name": "stdout",
     "output_type": "stream",
     "text": [
      "{'C': 0.0001, 'penalty': 'none'}\n"
     ]
    }
   ],
   "source": [
    "#Grid Search, \"c\" parametresi için en iyi değer olarak \"0.0001\" ve \"penalty\" parametresi için \"none\" değerini seçti.\n",
    "\n",
    "best_parameters = grid_model_lr.best_params_  \n",
    "print(best_parameters)  "
   ]
  },
  {
   "cell_type": "code",
   "execution_count": 15,
   "metadata": {},
   "outputs": [
    {
     "name": "stdout",
     "output_type": "stream",
     "text": [
      "Doğruluk(Eğitim): 0.9842857142857143\n",
      "Doğruluk(Test): 0.985\n",
      "Confusion Matrix: \n",
      "[[149   0   0   1]\n",
      " [  0 146   4   0]\n",
      " [  0   3 146   1]\n",
      " [  0   0   0 150]]\n",
      "\n",
      "\n",
      "              precision    recall  f1-score   support\n",
      "\n",
      "           1       1.00      0.99      1.00       150\n",
      "           2       0.98      0.97      0.98       150\n",
      "           3       0.97      0.97      0.97       150\n",
      "           4       0.99      1.00      0.99       150\n",
      "\n",
      "    accuracy                           0.98       600\n",
      "   macro avg       0.99      0.99      0.98       600\n",
      "weighted avg       0.99      0.98      0.98       600\n",
      "\n"
     ]
    }
   ],
   "source": [
    "#Parametre optimizasyonu yaptığımız modelimiz, varsayılan değerlerle çalıştırdığımız modele \n",
    "#yakın bir performans göstermiş olsa da değişken seçimi yaptığımız modellere performans olarak geride kaldı.\n",
    "\n",
    "y_pred = grid_model_lr.predict(x_test)\n",
    "y_pred1 =  grid_model_lr.predict(x_train)\n",
    "\n",
    "print('Doğruluk(Eğitim):',accuracy_score(y_pred1,y_train))\n",
    "print('Doğruluk(Test):',accuracy_score(y_pred,y_test))\n",
    "print('Confusion Matrix: \\n' + str(confusion_matrix(y_test,y_pred)))\n",
    "print(\"\\n\")\n",
    "print(classification_report(y_test, y_pred))"
   ]
  },
  {
   "cell_type": "markdown",
   "metadata": {},
   "source": [
    "#  k-Nearest Neighbors"
   ]
  },
  {
   "cell_type": "markdown",
   "metadata": {},
   "source": [
    "#### Ham Hali"
   ]
  },
  {
   "cell_type": "code",
   "execution_count": 16,
   "metadata": {},
   "outputs": [
    {
     "name": "stdout",
     "output_type": "stream",
     "text": [
      "Doğruluk(Eğitim): 0.9885714285714285\n",
      "Doğruluk(Test): 0.99\n",
      "Confusion Matrix: \n",
      "[[150   0   0   0]\n",
      " [  0 146   4   0]\n",
      " [  1   0 148   1]\n",
      " [  0   0   0 150]]\n",
      "\n",
      "\n",
      "              precision    recall  f1-score   support\n",
      "\n",
      "           1       0.99      1.00      1.00       150\n",
      "           2       1.00      0.97      0.99       150\n",
      "           3       0.97      0.99      0.98       150\n",
      "           4       0.99      1.00      1.00       150\n",
      "\n",
      "    accuracy                           0.99       600\n",
      "   macro avg       0.99      0.99      0.99       600\n",
      "weighted avg       0.99      0.99      0.99       600\n",
      "\n"
     ]
    }
   ],
   "source": [
    "#k-Nearest Neighbors ve ham veri ile eğittiğimiz modelimiz Logistic Regression'un ham haline göre daha yüksek doğruluk\n",
    "#ve recall performansı sergiledi.\n",
    "\n",
    "model_knn_ham = KNeighborsClassifier(n_neighbors=5)\n",
    "model_knn_ham.fit(x_train, y_train)\n",
    "\n",
    "y_pred = model_knn_ham.predict(x_test)\n",
    "y_pred1 = model_knn_ham.predict(x_train)\n",
    "\n",
    "print('Doğruluk(Eğitim):',accuracy_score(y_pred1,y_train))\n",
    "print('Doğruluk(Test):',accuracy_score(y_pred,y_test))\n",
    "print('Confusion Matrix: \\n' + str(confusion_matrix(y_test,y_pred)))\n",
    "print(\"\\n\")\n",
    "print(classification_report(y_test, y_pred))"
   ]
  },
  {
   "cell_type": "markdown",
   "metadata": {},
   "source": [
    "#### SelectKBest ile Değişken Seçimi Yapılmış Hali"
   ]
  },
  {
   "cell_type": "code",
   "execution_count": 17,
   "metadata": {},
   "outputs": [
    {
     "name": "stdout",
     "output_type": "stream",
     "text": [
      "Doğruluk(Eğitim): 0.9807142857142858\n",
      "Doğruluk(Test): 0.985\n",
      "Confusion Matrix: \n",
      "[[150   0   0   0]\n",
      " [  0 145   5   0]\n",
      " [  2   1 147   0]\n",
      " [  1   0   0 149]]\n",
      "\n",
      "\n",
      "              precision    recall  f1-score   support\n",
      "\n",
      "           1       0.98      1.00      0.99       150\n",
      "           2       0.99      0.97      0.98       150\n",
      "           3       0.97      0.98      0.97       150\n",
      "           4       1.00      0.99      1.00       150\n",
      "\n",
      "    accuracy                           0.98       600\n",
      "   macro avg       0.99      0.98      0.98       600\n",
      "weighted avg       0.99      0.98      0.98       600\n",
      "\n"
     ]
    }
   ],
   "source": [
    "#4 değişken ile eğittiğimz modelimiz daha az iş gücüyle çalışmasına rağmen başarı performansı ham modelimizin gerisinde kaldı.\n",
    "\n",
    "model_knn_KBest = KNeighborsClassifier(n_neighbors=5)\n",
    "model_knn_KBest.fit(x_fclassif_train, y_fclassif_train)\n",
    "\n",
    "y_pred_class1 = model_knn_KBest.predict(x_fclassif_test)\n",
    "y_pred_class11 = model_knn_KBest.predict(x_fclassif_train)\n",
    "\n",
    "print('Doğruluk(Eğitim):',accuracy_score(y_pred_class11,y_fclassif_train))\n",
    "print('Doğruluk(Test):',accuracy_score(y_pred_class1,y_classif_test))\n",
    "print('Confusion Matrix: \\n' + str(confusion_matrix(y_classif_test,y_pred_class1)))\n",
    "print(\"\\n\")\n",
    "print(classification_report(y_classif_test, y_pred_class1))"
   ]
  },
  {
   "cell_type": "markdown",
   "metadata": {},
   "source": [
    "#### Feature Elimination ile Değişken Seçimi Yapılmış Hali"
   ]
  },
  {
   "cell_type": "code",
   "execution_count": 18,
   "metadata": {},
   "outputs": [
    {
     "name": "stdout",
     "output_type": "stream",
     "text": [
      "Doğruluk(Eğitim): 0.9807142857142858\n",
      "Doğruluk(Test): 0.985\n",
      "Confusion Matrix: \n",
      "[[150   0   0   0]\n",
      " [  0 145   5   0]\n",
      " [  2   1 147   0]\n",
      " [  1   0   0 149]]\n",
      "\n",
      "\n",
      "              precision    recall  f1-score   support\n",
      "\n",
      "           1       0.98      1.00      0.99       150\n",
      "           2       0.99      0.97      0.98       150\n",
      "           3       0.97      0.98      0.97       150\n",
      "           4       1.00      0.99      1.00       150\n",
      "\n",
      "    accuracy                           0.98       600\n",
      "   macro avg       0.99      0.98      0.98       600\n",
      "weighted avg       0.99      0.98      0.98       600\n",
      "\n"
     ]
    }
   ],
   "source": [
    "#4 değişken ile eğittiğimz modelimiz daha az iş gücüyle çalışmasına rağmen başarı performansı ham modelimizin gerisinde kaldı.\n",
    "\n",
    "model_knn_fe = KNeighborsClassifier(n_neighbors=5)\n",
    "model_knn_fe.fit(x_feature_train, y_feature_train)\n",
    "\n",
    "y_pred_fe = model_knn_fe.predict(x_feature_test)\n",
    "y_pred_fe1 = model_knn_fe.predict(x_feature_train)\n",
    "\n",
    "print('Doğruluk(Eğitim):',accuracy_score(y_pred_fe1,y_feature_train))\n",
    "print('Doğruluk(Test):',accuracy_score(y_pred_fe,y_test))\n",
    "print('Confusion Matrix: \\n' + str(confusion_matrix(y_test,y_pred_fe)))\n",
    "print(\"\\n\")\n",
    "print(classification_report(y_test, y_pred_fe))"
   ]
  },
  {
   "cell_type": "markdown",
   "metadata": {},
   "source": [
    "#### Grid Search ile Parametre Optimizasyonu Yapılmış Hali"
   ]
  },
  {
   "cell_type": "code",
   "execution_count": 19,
   "metadata": {},
   "outputs": [
    {
     "name": "stdout",
     "output_type": "stream",
     "text": [
      "Fitting 10 folds for each of 15 candidates, totalling 150 fits\n"
     ]
    },
    {
     "name": "stderr",
     "output_type": "stream",
     "text": [
      "[Parallel(n_jobs=-1)]: Using backend LokyBackend with 8 concurrent workers.\n",
      "[Parallel(n_jobs=-1)]: Done  56 tasks      | elapsed:    0.2s\n",
      "[Parallel(n_jobs=-1)]: Done 150 out of 150 | elapsed:    0.5s finished\n"
     ]
    },
    {
     "data": {
      "text/plain": [
       "GridSearchCV(cv=10, estimator=KNeighborsClassifier(), n_jobs=-1,\n",
       "             param_grid={'algorithm': ['auto', 'ball_tree', 'kd_tree'],\n",
       "                         'n_neighbors': [1, 2, 4, 5, 10]},\n",
       "             scoring='accuracy', verbose=1)"
      ]
     },
     "execution_count": 19,
     "metadata": {},
     "output_type": "execute_result"
    }
   ],
   "source": [
    "#\"n_neighbors\" ve \"algorithm\" parametrelerimizi en iyi hale getirebilmek için Grid Search ile modelimizi eğittik. \n",
    "\n",
    "\n",
    "grid_degerleri = {'n_neighbors': [1,2,4,5,10],'algorithm':['auto','ball_tree','kd_tree']}\n",
    "\n",
    "model = KNeighborsClassifier()\n",
    "\n",
    "grid_model_kn = GridSearchCV(model, param_grid = grid_degerleri, cv=10,scoring = 'accuracy',\n",
    "                          n_jobs=-1,verbose=1)\n",
    "\n",
    "grid_model_kn.fit(x_train, y_train)"
   ]
  },
  {
   "cell_type": "code",
   "execution_count": 20,
   "metadata": {},
   "outputs": [
    {
     "name": "stdout",
     "output_type": "stream",
     "text": [
      "{'algorithm': 'ball_tree', 'n_neighbors': 4}\n"
     ]
    }
   ],
   "source": [
    "#Grid Search, \"algorithm\" parametresi için en iyi değer olarak \"0.ball_tree\" ve \"n_neighbors\" \n",
    "#parametresi için \"4\" değerini seçti.\n",
    "\n",
    "best_parameters = grid_model_kn.best_params_  \n",
    "print(best_parameters) "
   ]
  },
  {
   "cell_type": "code",
   "execution_count": 21,
   "metadata": {},
   "outputs": [
    {
     "name": "stdout",
     "output_type": "stream",
     "text": [
      "Doğruluk(Eğitim): 0.9907142857142858\n",
      "Doğruluk(Test): 0.9883333333333333\n",
      "Confusion Matrix: \n",
      "[[150   0   0   0]\n",
      " [  0 146   4   0]\n",
      " [  1   0 148   1]\n",
      " [  0   0   1 149]]\n",
      "\n",
      "\n",
      "              precision    recall  f1-score   support\n",
      "\n",
      "           1       0.99      1.00      1.00       150\n",
      "           2       1.00      0.97      0.99       150\n",
      "           3       0.97      0.99      0.98       150\n",
      "           4       0.99      0.99      0.99       150\n",
      "\n",
      "    accuracy                           0.99       600\n",
      "   macro avg       0.99      0.99      0.99       600\n",
      "weighted avg       0.99      0.99      0.99       600\n",
      "\n"
     ]
    }
   ],
   "source": [
    "#Parametre optimizasyonu, değişken seçimi yaptığımız modellere göre daha iyi bir performans göstermesine rağmen varsayılan\n",
    "#değerlerle eğittiğimiz modele göre daha kötü recall değeri sergiledi.\n",
    "\n",
    "y_pred = grid_model_kn.predict(x_test)\n",
    "y_pred1 =  grid_model_kn.predict(x_train)\n",
    "\n",
    "print('Doğruluk(Eğitim):',accuracy_score(y_pred1,y_train))\n",
    "print('Doğruluk(Test):',accuracy_score(y_pred,y_test))\n",
    "print('Confusion Matrix: \\n' + str(confusion_matrix(y_test,y_pred)))\n",
    "print(\"\\n\")\n",
    "print(classification_report(y_test, y_pred))"
   ]
  },
  {
   "cell_type": "markdown",
   "metadata": {},
   "source": [
    "# Random Forest"
   ]
  },
  {
   "cell_type": "markdown",
   "metadata": {},
   "source": [
    "#### Ham Hali"
   ]
  },
  {
   "cell_type": "code",
   "execution_count": 22,
   "metadata": {},
   "outputs": [
    {
     "name": "stdout",
     "output_type": "stream",
     "text": [
      "Doğruluk(Eğitim): 1.0\n",
      "Doğruluk(Test): 0.985\n",
      "Confusion Matrix: \n",
      "[[150   0   0   0]\n",
      " [  0 143   7   0]\n",
      " [  0   2 148   0]\n",
      " [  0   0   0 150]]\n",
      "\n",
      "\n",
      "              precision    recall  f1-score   support\n",
      "\n",
      "           1       1.00      1.00      1.00       150\n",
      "           2       0.99      0.95      0.97       150\n",
      "           3       0.95      0.99      0.97       150\n",
      "           4       1.00      1.00      1.00       150\n",
      "\n",
      "    accuracy                           0.98       600\n",
      "   macro avg       0.99      0.98      0.98       600\n",
      "weighted avg       0.99      0.98      0.98       600\n",
      "\n"
     ]
    }
   ],
   "source": [
    "#Eğitim performansı tam öğrenme göstermiş olsa da özellikle recall performansı diğer algoritmaların gerisinde kaldı.\n",
    "\n",
    "model_rf_ham = RandomForestClassifier()\n",
    "model_rf_ham.fit(x_train, y_train)\n",
    "\n",
    "y_pred = model_rf_ham.predict(x_test)\n",
    "y_pred1 = model_rf_ham.predict(x_train)\n",
    "\n",
    "print('Doğruluk(Eğitim):',accuracy_score(y_pred1,y_train))\n",
    "print('Doğruluk(Test):',accuracy_score(y_pred,y_test))\n",
    "print('Confusion Matrix: \\n' + str(confusion_matrix(y_test,y_pred)))\n",
    "print(\"\\n\")\n",
    "print(classification_report(y_test, y_pred))"
   ]
  },
  {
   "cell_type": "markdown",
   "metadata": {},
   "source": [
    "#### SelectKBest ile Değişken Seçimi Yapılmış Hali"
   ]
  },
  {
   "cell_type": "code",
   "execution_count": 23,
   "metadata": {},
   "outputs": [
    {
     "name": "stdout",
     "output_type": "stream",
     "text": [
      "Doğruluk(Eğitim): 1.0\n",
      "Doğruluk(Test): 0.9866666666666667\n",
      "Confusion Matrix: \n",
      "[[148   0   0   2]\n",
      " [  0 146   4   0]\n",
      " [  2   0 148   0]\n",
      " [  0   0   0 150]]\n",
      "\n",
      "\n",
      "              precision    recall  f1-score   support\n",
      "\n",
      "           1       0.99      0.99      0.99       150\n",
      "           2       1.00      0.97      0.99       150\n",
      "           3       0.97      0.99      0.98       150\n",
      "           4       0.99      1.00      0.99       150\n",
      "\n",
      "    accuracy                           0.99       600\n",
      "   macro avg       0.99      0.99      0.99       600\n",
      "weighted avg       0.99      0.99      0.99       600\n",
      "\n"
     ]
    }
   ],
   "source": [
    "#Değişken seçimi yaptığımız verilerle eğittiğimiz modelimiz hem doğruluk hem de recall performansında ham halini geride bıraktı.\n",
    "\n",
    "model_rf_KBest = RandomForestClassifier()\n",
    "model_rf_KBest.fit(x_fclassif_train, y_fclassif_train)\n",
    "\n",
    "y_pred_123 = model_rf_KBest.predict(x_fclassif_test)\n",
    "y_pred1_111 = model_rf_KBest.predict(x_fclassif_train)\n",
    "\n",
    "print('Doğruluk(Eğitim):',accuracy_score(y_pred1_111,y_fclassif_train))\n",
    "print('Doğruluk(Test):',accuracy_score(y_pred_123,y_classif_test))\n",
    "print('Confusion Matrix: \\n' + str(confusion_matrix(y_classif_test,y_pred_123)))\n",
    "print(\"\\n\")\n",
    "print(classification_report(y_classif_test, y_pred_123))"
   ]
  },
  {
   "cell_type": "markdown",
   "metadata": {},
   "source": [
    "#### Feature Elimination ile Değişken Seçimi Yapılmış Hali"
   ]
  },
  {
   "cell_type": "code",
   "execution_count": 24,
   "metadata": {},
   "outputs": [
    {
     "name": "stdout",
     "output_type": "stream",
     "text": [
      "Doğruluk(Eğitim): 1.0\n",
      "Doğruluk(Test): 0.9866666666666667\n",
      "Confusion Matrix: \n",
      "[[149   0   0   1]\n",
      " [  0 145   5   0]\n",
      " [  2   0 148   0]\n",
      " [  0   0   0 150]]\n",
      "\n",
      "\n",
      "              precision    recall  f1-score   support\n",
      "\n",
      "           1       0.99      0.99      0.99       150\n",
      "           2       1.00      0.97      0.98       150\n",
      "           3       0.97      0.99      0.98       150\n",
      "           4       0.99      1.00      1.00       150\n",
      "\n",
      "    accuracy                           0.99       600\n",
      "   macro avg       0.99      0.99      0.99       600\n",
      "weighted avg       0.99      0.99      0.99       600\n",
      "\n"
     ]
    }
   ],
   "source": [
    "#Feature Elimination, neredeyse selectKbest ile aynı performansı sergiledi.\n",
    "\n",
    "model_rf_fe = RandomForestClassifier()\n",
    "model_rf_fe.fit(x_feature_train, y_feature_train)\n",
    "\n",
    "y_pred41 = model_rf_fe.predict(x_feature_test)\n",
    "y_pred07 = model_rf_fe.predict(x_feature_train)\n",
    "\n",
    "print('Doğruluk(Eğitim):',accuracy_score(y_pred07,y_feature_train))\n",
    "print('Doğruluk(Test):',accuracy_score(y_pred41,y_test))\n",
    "print('Confusion Matrix: \\n' + str(confusion_matrix(y_test,y_pred41)))\n",
    "print(\"\\n\")\n",
    "print(classification_report(y_test, y_pred41))"
   ]
  },
  {
   "cell_type": "markdown",
   "metadata": {},
   "source": [
    "#### Grid Search ile Parametre Optimizasyonu Yapılmış Hali"
   ]
  },
  {
   "cell_type": "code",
   "execution_count": 25,
   "metadata": {},
   "outputs": [
    {
     "name": "stdout",
     "output_type": "stream",
     "text": [
      "Fitting 10 folds for each of 15 candidates, totalling 150 fits\n"
     ]
    },
    {
     "name": "stderr",
     "output_type": "stream",
     "text": [
      "[Parallel(n_jobs=-1)]: Using backend LokyBackend with 8 concurrent workers.\n",
      "[Parallel(n_jobs=-1)]: Done  34 tasks      | elapsed:    3.9s\n",
      "[Parallel(n_jobs=-1)]: Done 150 out of 150 | elapsed:   34.8s finished\n"
     ]
    },
    {
     "data": {
      "text/plain": [
       "GridSearchCV(cv=10, estimator=RandomForestClassifier(), n_jobs=-1,\n",
       "             param_grid={'max_features': ['auto', 'sqrt', 'log2'],\n",
       "                         'n_estimators': [50, 100, 300, 500, 1000]},\n",
       "             scoring='accuracy', verbose=1)"
      ]
     },
     "execution_count": 25,
     "metadata": {},
     "output_type": "execute_result"
    }
   ],
   "source": [
    "#\"n_estimators\" ve \"max_features\" parametrelerimizi en iyi hale getirebilmek için Grid Search ile modelimizi eğittik. \n",
    "\n",
    "grid_degerleri = {'n_estimators': [50,100,300,500,1000],'max_features':['auto','sqrt','log2']}\n",
    "\n",
    "model = RandomForestClassifier()\n",
    "\n",
    "grid_model_rf = GridSearchCV(model, param_grid = grid_degerleri, cv=10,scoring = 'accuracy',\n",
    "                          n_jobs=-1,verbose=1)\n",
    "\n",
    "grid_model_rf.fit(x_train, y_train)"
   ]
  },
  {
   "cell_type": "code",
   "execution_count": 26,
   "metadata": {},
   "outputs": [
    {
     "name": "stdout",
     "output_type": "stream",
     "text": [
      "{'max_features': 'sqrt', 'n_estimators': 100}\n"
     ]
    }
   ],
   "source": [
    "#Grid Search, \"max_features\" parametresi için en iyi değer olarak \"sqrt\" ve \"n_estimators\" \n",
    "#parametresi için \"100\" değerini seçti.\n",
    "\n",
    "best_parameters = grid_model_rf.best_params_  \n",
    "print(best_parameters) "
   ]
  },
  {
   "cell_type": "code",
   "execution_count": 27,
   "metadata": {},
   "outputs": [
    {
     "name": "stdout",
     "output_type": "stream",
     "text": [
      "Doğruluk(Eğitim): 1.0\n",
      "Doğruluk(Test): 0.9816666666666667\n",
      "Confusion Matrix: \n",
      "[[150   0   0   0]\n",
      " [  0 142   8   0]\n",
      " [  0   3 147   0]\n",
      " [  0   0   0 150]]\n",
      "\n",
      "\n",
      "              precision    recall  f1-score   support\n",
      "\n",
      "           1       1.00      1.00      1.00       150\n",
      "           2       0.98      0.95      0.96       150\n",
      "           3       0.95      0.98      0.96       150\n",
      "           4       1.00      1.00      1.00       150\n",
      "\n",
      "    accuracy                           0.98       600\n",
      "   macro avg       0.98      0.98      0.98       600\n",
      "weighted avg       0.98      0.98      0.98       600\n",
      "\n"
     ]
    }
   ],
   "source": [
    "#Parametre optimizasyonu ile eğittiğimiz modelimiz, random forest ile çalıştığımız tüm modelleri arasından \n",
    "#en kötü performansı sergiledi.\n",
    "\n",
    "y_pred = grid_model_rf.predict(x_test)\n",
    "y_pred1 =  grid_model_rf.predict(x_train)\n",
    "\n",
    "print('Doğruluk(Eğitim):',accuracy_score(y_pred1,y_train))\n",
    "print('Doğruluk(Test):',accuracy_score(y_pred,y_test))\n",
    "print('Confusion Matrix: \\n' + str(confusion_matrix(y_test,y_pred)))\n",
    "print(\"\\n\")\n",
    "print(classification_report(y_test, y_pred))"
   ]
  },
  {
   "cell_type": "markdown",
   "metadata": {},
   "source": [
    "# Voting Classifier"
   ]
  },
  {
   "cell_type": "code",
   "execution_count": 28,
   "metadata": {},
   "outputs": [
    {
     "name": "stdout",
     "output_type": "stream",
     "text": [
      "Fitting 10 folds for each of 12 candidates, totalling 120 fits\n"
     ]
    },
    {
     "name": "stderr",
     "output_type": "stream",
     "text": [
      "[Parallel(n_jobs=-1)]: Using backend LokyBackend with 8 concurrent workers.\n",
      "[Parallel(n_jobs=-1)]: Done  34 tasks      | elapsed:   13.3s\n",
      "[Parallel(n_jobs=-1)]: Done 120 out of 120 | elapsed:  1.6min finished\n",
      "C:\\Users\\Lenovo\\anaconda3\\lib\\site-packages\\sklearn\\linear_model\\_logistic.py:1320: UserWarning: Setting penalty='none' will ignore the C and l1_ratio parameters\n",
      "  warnings.warn(\n"
     ]
    },
    {
     "name": "stdout",
     "output_type": "stream",
     "text": [
      "Fitting 10 folds for each of 15 candidates, totalling 150 fits\n"
     ]
    },
    {
     "name": "stderr",
     "output_type": "stream",
     "text": [
      "[Parallel(n_jobs=-1)]: Using backend LokyBackend with 8 concurrent workers.\n",
      "[Parallel(n_jobs=-1)]: Done  56 tasks      | elapsed:    0.2s\n",
      "[Parallel(n_jobs=-1)]: Done 150 out of 150 | elapsed:    0.4s finished\n"
     ]
    },
    {
     "name": "stdout",
     "output_type": "stream",
     "text": [
      "Fitting 10 folds for each of 15 candidates, totalling 150 fits\n"
     ]
    },
    {
     "name": "stderr",
     "output_type": "stream",
     "text": [
      "[Parallel(n_jobs=-1)]: Using backend LokyBackend with 8 concurrent workers.\n",
      "[Parallel(n_jobs=-1)]: Done  34 tasks      | elapsed:    4.4s\n",
      "[Parallel(n_jobs=-1)]: Done 150 out of 150 | elapsed:  1.1min finished\n"
     ]
    }
   ],
   "source": [
    "#Eğitiğimiz tüm modelleri çekerek, voting classifier ile yeni bir model oluşturmayı amaçladık.\n",
    "#Voting parametresi için \"soft\" seçeneğini seçtik. Bu sayede tüm modellerden gelen olasılıkların \n",
    "#ortalamasını alarak her modelden yararlanan yeni bir model ortaya koyabildik.\n",
    "\n",
    "oylama_modeli = VotingClassifier(estimators=[('LR_HamHali', model_lr_ham), ('LR_KBest', model_lr_KBest), ('LR_Feature', model_lr_fe),\n",
    "                                             ('LR_GridSearch', grid_model_lr), ('KNN_HamHali', model_knn_ham), ('KNN_KBest', model_knn_KBest), ('KNN_Feature', model_knn_fe), \n",
    "                                             ('KNN_GridSearch', grid_model_kn), ('RF_HamHali', model_rf_ham), ('RF_KBest', model_rf_KBest), ('RF_Feature', model_rf_fe),\n",
    "                                             ('RF_GridSearch', grid_model_rf)], voting='soft')\n",
    "oylama_modeli.fit(x_train, y_train)\n",
    "oylama_y_pred = oylama_modeli.predict(x_test)\n",
    "oylama_y_pred1 = oylama_modeli.predict(x_train)"
   ]
  },
  {
   "cell_type": "code",
   "execution_count": 29,
   "metadata": {},
   "outputs": [
    {
     "name": "stdout",
     "output_type": "stream",
     "text": [
      "Doğruluk(Eğitim): 0.9942857142857143\n",
      "Doğruluk(Test): 0.9883333333333333\n",
      "Confusion Matrix: \n",
      "[[150   0   0   0]\n",
      " [  0 145   5   0]\n",
      " [  1   1 148   0]\n",
      " [  0   0   0 150]]\n",
      "\n",
      "\n",
      "              precision    recall  f1-score   support\n",
      "\n",
      "           1       0.99      1.00      1.00       150\n",
      "           2       0.99      0.97      0.98       150\n",
      "           3       0.97      0.99      0.98       150\n",
      "           4       1.00      1.00      1.00       150\n",
      "\n",
      "    accuracy                           0.99       600\n",
      "   macro avg       0.99      0.99      0.99       600\n",
      "weighted avg       0.99      0.99      0.99       600\n",
      "\n"
     ]
    }
   ],
   "source": [
    "#Diğer modellere göre en fazla başarıyı voting classsifier ile elde ettik. Modelimiz gerek recall değeri yüksek oluşu gerekse \n",
    "#tam öğrenme göstermeyişi bizim avantajımıza oldu.\n",
    "\n",
    "print('Doğruluk(Eğitim):',accuracy_score(oylama_y_pred1,y_train))\n",
    "print('Doğruluk(Test):',accuracy_score(oylama_y_pred,y_test))\n",
    "print('Confusion Matrix: \\n' + str(confusion_matrix(y_test,oylama_y_pred)))\n",
    "print(\"\\n\")\n",
    "print(classification_report(y_test, oylama_y_pred))"
   ]
  },
  {
   "cell_type": "markdown",
   "metadata": {},
   "source": [
    "# Son Yorum"
   ]
  },
  {
   "cell_type": "markdown",
   "metadata": {},
   "source": [
    "Zaten ilk modelimizden yeterince yüksek bir başarı elde etmiş olmamıza rağmen gerek farklı algoritmalar kullanarak gerekse farklı parametre optimizasyonları yaparak performansımızı en üst seviyeye çekmeye çalıştık. Rastgele bir model seçmek çok ta uçuk bir fikir olmayabilir çünkü bütün algoritmalarda birbirlerine çok yakın sonuçlar elde ettik. Ama tüm modellerimizden yararlanan en kapsamlı model olan voting classifier ile eğittiğimiz modeli seçmek en mantıklı karar olacaktır. Yine en fazla doğruluğa ve recall değerine de bu modelimizde ulaştık bu nedenle Voting Classifier'ı kullanmak en iyisi olacaktır.  "
   ]
  }
 ],
 "metadata": {
  "kernelspec": {
   "display_name": "Python 3",
   "language": "python",
   "name": "python3"
  },
  "language_info": {
   "codemirror_mode": {
    "name": "ipython",
    "version": 3
   },
   "file_extension": ".py",
   "mimetype": "text/x-python",
   "name": "python",
   "nbconvert_exporter": "python",
   "pygments_lexer": "ipython3",
   "version": "3.8.5"
  }
 },
 "nbformat": 4,
 "nbformat_minor": 4
}
